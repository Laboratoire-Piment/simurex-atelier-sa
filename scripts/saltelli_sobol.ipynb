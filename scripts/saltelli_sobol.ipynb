{
 "cells": [
  {
   "cell_type": "markdown",
   "metadata": {},
   "source": [
    "Import des librairies"
   ]
  },
  {
   "cell_type": "code",
   "execution_count": 34,
   "metadata": {},
   "outputs": [],
   "source": [
    "import os\n",
    "import sys\n",
    "import pandas as pd\n",
    "import numpy as np\n",
    "import seaborn as sns\n",
    "import matplotlib.pyplot as plt\n",
    "from pythermalcomfort import two_nodes\n",
    "from SALib.sample import saltelli\n",
    "from SALib.analyze import sobol as analyse_sobol\n",
    "from SALib.plotting.bar import plot as barplot\n"
   ]
  },
  {
   "cell_type": "code",
   "execution_count": 35,
   "metadata": {},
   "outputs": [],
   "source": [
    "\n",
    "current_directory = os.getcwd()\n",
    "\n",
    "# List all files in the current directory\n",
    "files = os.listdir(current_directory)\n",
    "\n",
    "# Iterate through all files\n",
    "for file in files:\n",
    "    if file.endswith('.py'):\n",
    "        # Skip Python files\n",
    "        continue\n",
    "    else:\n",
    "        # Delete non-Python files\n",
    "        os.remove(os.path.join(current_directory, file))"
   ]
  },
  {
   "cell_type": "code",
   "execution_count": 36,
   "metadata": {},
   "outputs": [],
   "source": [
    "model = \"Gagge's Two-Nodes\" # Name of model for plot titles\n",
    "filename='GAGGE_2NODES' # Eventual filename for exporting all csv outputs\n",
    "doyouwanttoploteverything = True  # Flag if will to export all data in csv and all plot for each degree step (True if will to plot)"
   ]
  },
  {
   "cell_type": "code",
   "execution_count": 37,
   "metadata": {},
   "outputs": [],
   "source": [
    "def model4sa(tdb,\n",
    "                tr,\n",
    "                v,\n",
    "                rh,\n",
    "                met,\n",
    "                clo,\n",
    "                standard=\"ASHRAE\", limit_inputs=False, round=False):\n",
    "    \n",
    "    pythermal=two_nodes(tdb=tdb,\n",
    "                        tr=tr,\n",
    "                        v=v,\n",
    "                        rh=rh,\n",
    "                        met=met,\n",
    "                        clo=clo,\n",
    "                        standard=\"ASHRAE\", limit_inputs=False, round=False)\n",
    "    \n",
    "    pts = 0.25 * pythermal['_set'] - 6.03\n",
    "    es=1.33\n",
    "    l=0.195\n",
    "    tsv_se = es * pts\n",
    "    tsv_sa = pts/(1+l*pts)\n",
    "    \n",
    "    return {\"_set\": pythermal['_set'],\n",
    "                    \"et\":pythermal['et'],\n",
    "                    \"t_core\" : pythermal['t_core'],\n",
    "                    \"t_skin\" : pythermal['t_skin'],\n",
    "                    \"pmv_gagge\" : pythermal['pmv_gagge'],\n",
    "                    \"pmv_set\" : pythermal['pmv_set'],\n",
    "                    'w' : pythermal['w'],\n",
    "                    'w_max' : pythermal['w_max'],\n",
    "                    \"disc\" : pythermal['disc'],\n",
    "                    \"t_sens\" : pythermal['t_sens'],\n",
    "                    'pts' : pts,\n",
    "                    'tsv_se':tsv_se,\n",
    "                    'tsv_sa':tsv_sa}"
   ]
  },
  {
   "cell_type": "code",
   "execution_count": 38,
   "metadata": {},
   "outputs": [],
   "source": [
    "model_output_names=\"_set\"\n",
    "                    # \"et\",\n",
    "                    # \"t_core\",\n",
    "                    # \"t_skin\",\n",
    "                    # \"pmv_gagge\",\n",
    "                    # \"pmv_set\",\n",
    "                    # 'w',\n",
    "                    # 'w_max',\n",
    "                    # \"disc\",\n",
    "                    # \"t_sens\",\n",
    "                    # 'pts',\n",
    "                    # 'tsv_se',\n",
    "                    # 'tsv_sa'\n",
    "                    \n",
    "                    "
   ]
  },
  {
   "cell_type": "code",
   "execution_count": 39,
   "metadata": {},
   "outputs": [],
   "source": [
    "# Define number of sample for SA, need to be determined after a Si (S1) convergence study\n",
    "samples=10000\n",
    "# Define input variable ranges based on possible model inputs\n",
    "lower_v = 0.01 \n",
    "upper_v = 2.2\n",
    "# lower_met = 0.65\n",
    "# upper_met = 1.26\n",
    "lower_clo = 0.29\n",
    "upper_clo = 0.79\n",
    "lower_tdb = 25.4\n",
    "upper_tdb = 32.1\n",
    "lower_tr = 23.1\n",
    "upper_tr = 31.2\n",
    "lower_rh = 60\n",
    "upper_rh = 90"
   ]
  },
  {
   "cell_type": "code",
   "execution_count": 40,
   "metadata": {},
   "outputs": [],
   "source": [
    "# Define SA problem (SALIB package)\n",
    "problem = {\n",
    "    'num_vars': 5, # number of variable inputs\n",
    "    'names': [ 'tdb','tr','rh','v','clo'], # input names in correct order\n",
    "    'bounds': [\n",
    "        [lower_tdb, upper_tdb],\n",
    "        [lower_tr, upper_tr],\n",
    "        [lower_rh, upper_rh],\n",
    "        [lower_v, upper_v],\n",
    "        [lower_clo, upper_clo]\n",
    "            ],\n",
    "    'dist' : ['unif',\n",
    "              'unif',\n",
    "              'unif',\n",
    "              'unif',\n",
    "              'unif']    \n",
    "            \n",
    "        }"
   ]
  },
  {
   "cell_type": "code",
   "execution_count": 41,
   "metadata": {},
   "outputs": [
    {
     "name": "stderr",
     "output_type": "stream",
     "text": [
      "C:\\Users\\mbouling\\AppData\\Local\\Temp\\ipykernel_23536\\3444252147.py:2: DeprecationWarning: `salib.sample.saltelli` will be removed in SALib 1.5. Please use `salib.sample.sobol`\n",
      "  sampling = saltelli.sample(problem, samples)\n",
      "c:\\_GIT_HUB_PIMENTLAB\\simurex-atelier-sa\\.venv\\lib\\site-packages\\SALib\\sample\\saltelli.py:109: UserWarning: \n",
      "        Convergence properties of the Sobol' sequence is only valid if\n",
      "        `N` (10000) is equal to `2^n`.\n",
      "        \n",
      "  warnings.warn(msg)\n"
     ]
    }
   ],
   "source": [
    "# Generate the parameter samples using SALIB RBDfast recommanded method (Latin Hypercube sampling)\n",
    "sampling = saltelli.sample(problem, samples)\n",
    "# Evaluate model\n",
    "Y = [model4sa(tdb=params[0],\n",
    "                    tr=params[1],\n",
    "                    rh=params[2],\n",
    "                    v=params[3],\n",
    "                    met=1.1,\n",
    "                    clo=params[4],\n",
    "                    standard=\"ASHRAE\", limit_inputs=False, round=False)[model_output_names] for params in sampling\n",
    "                    ]"
   ]
  },
  {
   "cell_type": "code",
   "execution_count": 42,
   "metadata": {},
   "outputs": [
    {
     "data": {
      "text/html": [
       "<div>\n",
       "<style scoped>\n",
       "    .dataframe tbody tr th:only-of-type {\n",
       "        vertical-align: middle;\n",
       "    }\n",
       "\n",
       "    .dataframe tbody tr th {\n",
       "        vertical-align: top;\n",
       "    }\n",
       "\n",
       "    .dataframe thead th {\n",
       "        text-align: right;\n",
       "    }\n",
       "</style>\n",
       "<table border=\"1\" class=\"dataframe\">\n",
       "  <thead>\n",
       "    <tr style=\"text-align: right;\">\n",
       "      <th></th>\n",
       "      <th>0</th>\n",
       "    </tr>\n",
       "  </thead>\n",
       "  <tbody>\n",
       "    <tr>\n",
       "      <th>0</th>\n",
       "      <td>26.000928</td>\n",
       "    </tr>\n",
       "    <tr>\n",
       "      <th>1</th>\n",
       "      <td>28.484696</td>\n",
       "    </tr>\n",
       "    <tr>\n",
       "      <th>2</th>\n",
       "      <td>24.994898</td>\n",
       "    </tr>\n",
       "    <tr>\n",
       "      <th>3</th>\n",
       "      <td>25.840653</td>\n",
       "    </tr>\n",
       "    <tr>\n",
       "      <th>4</th>\n",
       "      <td>23.657435</td>\n",
       "    </tr>\n",
       "    <tr>\n",
       "      <th>...</th>\n",
       "      <td>...</td>\n",
       "    </tr>\n",
       "    <tr>\n",
       "      <th>119995</th>\n",
       "      <td>21.711283</td>\n",
       "    </tr>\n",
       "    <tr>\n",
       "      <th>119996</th>\n",
       "      <td>20.447202</td>\n",
       "    </tr>\n",
       "    <tr>\n",
       "      <th>119997</th>\n",
       "      <td>20.913121</td>\n",
       "    </tr>\n",
       "    <tr>\n",
       "      <th>119998</th>\n",
       "      <td>24.195794</td>\n",
       "    </tr>\n",
       "    <tr>\n",
       "      <th>119999</th>\n",
       "      <td>20.366019</td>\n",
       "    </tr>\n",
       "  </tbody>\n",
       "</table>\n",
       "<p>120000 rows × 1 columns</p>\n",
       "</div>"
      ],
      "text/plain": [
       "                0\n",
       "0       26.000928\n",
       "1       28.484696\n",
       "2       24.994898\n",
       "3       25.840653\n",
       "4       23.657435\n",
       "...           ...\n",
       "119995  21.711283\n",
       "119996  20.447202\n",
       "119997  20.913121\n",
       "119998  24.195794\n",
       "119999  20.366019\n",
       "\n",
       "[120000 rows x 1 columns]"
      ]
     },
     "execution_count": 42,
     "metadata": {},
     "output_type": "execute_result"
    }
   ],
   "source": [
    "pd.DataFrame(Y)"
   ]
  },
  {
   "cell_type": "code",
   "execution_count": 43,
   "metadata": {},
   "outputs": [],
   "source": [
    "Si = sobol.analyze(problem,  np.asarray(Y), calc_second_order=True,print_to_console=False)\n",
    "total, first, second = Si.to_df()"
   ]
  },
  {
   "cell_type": "code",
   "execution_count": 44,
   "metadata": {},
   "outputs": [
    {
     "name": "stdout",
     "output_type": "stream",
     "text": [
      "           ST   ST_conf\n",
      "tdb  0.423534  0.013207\n",
      "tr   0.089979  0.002791\n",
      "rh   0.059170  0.002472\n",
      "v    0.220910  0.006753\n",
      "clo  0.228119  0.007313\n"
     ]
    },
    {
     "data": {
      "text/plain": [
       "<Axes: >"
      ]
     },
     "execution_count": 44,
     "metadata": {},
     "output_type": "execute_result"
    },
    {
     "data": {
      "image/png": "[encoded data removed]",
      "text/plain": [
       "<Figure size 640x480 with 1 Axes>"
      ]
     },
     "metadata": {},
     "output_type": "display_data"
    }
   ],
   "source": [
    "print(total)\n",
    "barplot(total)\n"
   ]
  },
  {
   "cell_type": "code",
   "execution_count": 45,
   "metadata": {},
   "outputs": [
    {
     "name": "stdout",
     "output_type": "stream",
     "text": [
      "           S1   S1_conf\n",
      "tdb  0.410377  0.017578\n",
      "tr   0.085015  0.008365\n",
      "rh   0.045003  0.006738\n",
      "v    0.212447  0.011609\n",
      "clo  0.224151  0.012888\n"
     ]
    },
    {
     "data": {
      "text/plain": [
       "<Axes: >"
      ]
     },
     "execution_count": 45,
     "metadata": {},
     "output_type": "execute_result"
    },
    {
     "data": {
      "image/png": "[encoded data removed]",
      "text/plain": [
       "<Figure size 640x480 with 1 Axes>"
      ]
     },
     "metadata": {},
     "output_type": "display_data"
    }
   ],
   "source": [
    "print(first)\n",
    "barplot(first)"
   ]
  },
  {
   "cell_type": "code",
   "execution_count": 46,
   "metadata": {},
   "outputs": [
    {
     "name": "stdout",
     "output_type": "stream",
     "text": [
      "                  S2   S2_conf\n",
      "(tdb, tr)   0.000235  0.024532\n",
      "(tdb, rh)   0.010985  0.024463\n",
      "(tdb, v)    0.001087  0.025130\n",
      "(tdb, clo)  0.000958  0.026984\n",
      "(tr, rh)    0.000691  0.011644\n",
      "(tr, v)     0.004254  0.013660\n",
      "(tr, clo)   0.000746  0.013317\n",
      "(rh, v)     0.001580  0.011120\n",
      "(rh, clo)   0.001252  0.012502\n",
      "(v, clo)    0.001848  0.017334\n"
     ]
    },
    {
     "data": {
      "text/plain": [
       "<Axes: >"
      ]
     },
     "execution_count": 46,
     "metadata": {},
     "output_type": "execute_result"
    },
    {
     "data": {
      "image/png": "[encoded data removed]",
      "text/plain": [
       "<Figure size 640x480 with 1 Axes>"
      ]
     },
     "metadata": {},
     "output_type": "display_data"
    }
   ],
   "source": [
    "print(second)\n",
    "barplot(second)"
   ]
  }
 ],
 "metadata": {
  "kernelspec": {
   "display_name": ".venv",
   "language": "python",
   "name": "python3"
  },
  "language_info": {
   "codemirror_mode": {
    "name": "ipython",
    "version": 3
   },
   "file_extension": ".py",
   "mimetype": "text/x-python",
   "name": "python",
   "nbconvert_exporter": "python",
   "pygments_lexer": "ipython3",
   "version": "3.10.0"
  }
 },
 "nbformat": 4,
 "nbformat_minor": 2
}

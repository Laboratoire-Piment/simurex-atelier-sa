{
 "cells": [
  {
   "cell_type": "markdown",
   "metadata": {},
   "source": [
    "Import des librairies"
   ]
  },
  {
   "cell_type": "code",
   "execution_count": 1,
   "metadata": {},
   "outputs": [],
   "source": [
    "import os\n",
    "import sys\n",
    "import pandas as pd\n",
    "import numpy as np\n",
    "import seaborn as sns\n",
    "import matplotlib.pyplot as plt\n",
    "from pythermalcomfort import two_nodes\n",
    "from SALib.sample import sobol\n",
    "from SALib.analyze import sobol as analyse_sobol\n",
    "from SALib.plotting.bar import plot as barplot\n"
   ]
  },
  {
   "cell_type": "code",
   "execution_count": 2,
   "metadata": {},
   "outputs": [],
   "source": [
    "def model4sa(tdb,\n",
    "                tr,\n",
    "                v,\n",
    "                rh,\n",
    "                met,\n",
    "                clo,\n",
    "                standard=\"ASHRAE\", limit_inputs=False, round=False):\n",
    "    \n",
    "    pythermal=two_nodes(tdb=tdb,\n",
    "                        tr=tr,\n",
    "                        v=v,\n",
    "                        rh=rh,\n",
    "                        met=met,\n",
    "                        clo=clo,\n",
    "                        standard=\"ASHRAE\", limit_inputs=False, round=False)\n",
    "    \n",
    "    pts = 0.25 * pythermal['_set'] - 6.03\n",
    "    es=1.33\n",
    "    l=0.195\n",
    "    tsv_se = es * pts\n",
    "    tsv_sa = pts/(1+l*pts)\n",
    "    \n",
    "    return {\"_set\": pythermal['_set'],\n",
    "                    \"et\":pythermal['et'],\n",
    "                    \"t_core\" : pythermal['t_core'],\n",
    "                    \"t_skin\" : pythermal['t_skin'],\n",
    "                    \"pmv_gagge\" : pythermal['pmv_gagge'],\n",
    "                    \"pmv_set\" : pythermal['pmv_set'],\n",
    "                    'w' : pythermal['w'],\n",
    "                    'w_max' : pythermal['w_max'],\n",
    "                    \"disc\" : pythermal['disc'],\n",
    "                    \"t_sens\" : pythermal['t_sens'],\n",
    "                    'pts' : pts,\n",
    "                    'tsv_se':tsv_se,\n",
    "                    'tsv_sa':tsv_sa}"
   ]
  },
  {
   "cell_type": "code",
   "execution_count": 3,
   "metadata": {},
   "outputs": [],
   "source": [
    "model_output_names=\"_set\"\n",
    "                    # \"et\",\n",
    "                    # \"t_core\",\n",
    "                    # \"t_skin\",\n",
    "                    # \"pmv_gagge\",\n",
    "                    # \"pmv_set\",\n",
    "                    # 'w',\n",
    "                    # 'w_max',\n",
    "                    # \"disc\",\n",
    "                    # \"t_sens\",\n",
    "                    # 'pts',\n",
    "                    # 'tsv_se',\n",
    "                    # 'tsv_sa'\n",
    "                    \n",
    "                    "
   ]
  },
  {
   "cell_type": "code",
   "execution_count": 4,
   "metadata": {},
   "outputs": [],
   "source": [
    "# Define number of sample for SA, need to be determined after a Si (S1) convergence study\n",
    "samples=10000\n",
    "# Define input variable ranges based on possible model inputs\n",
    "lower_v = 0.01 \n",
    "upper_v = 2.2\n",
    "# lower_met = 0.65\n",
    "# upper_met = 1.26\n",
    "lower_clo = 0.29\n",
    "upper_clo = 0.79\n",
    "lower_tdb = 25.4\n",
    "upper_tdb = 32.1\n",
    "lower_tr = 23.1\n",
    "upper_tr = 31.2\n",
    "lower_rh = 60\n",
    "upper_rh = 90"
   ]
  },
  {
   "cell_type": "code",
   "execution_count": 5,
   "metadata": {},
   "outputs": [],
   "source": [
    "# Define SA problem (SALIB package)\n",
    "problem = {\n",
    "    'num_vars': 5, # number of variable inputs\n",
    "    'names': [ 'tdb','tr','rh','v','clo'], # input names in correct order\n",
    "    'bounds': [\n",
    "        [lower_tdb, upper_tdb],\n",
    "        [lower_tr, upper_tr],\n",
    "        [lower_rh, upper_rh],\n",
    "        [lower_v, upper_v],\n",
    "        [lower_clo, upper_clo]\n",
    "            ],\n",
    "    'dist' : ['unif',\n",
    "              'unif',\n",
    "              'unif',\n",
    "              'unif',\n",
    "              'unif']    \n",
    "            \n",
    "        }"
   ]
  },
  {
   "cell_type": "code",
   "execution_count": 6,
   "metadata": {},
   "outputs": [
    {
     "name": "stderr",
     "output_type": "stream",
     "text": [
      "c:\\_GIT_HUB_PIMENTLAB\\simurex-atelier-sa\\.venv\\lib\\site-packages\\scipy\\stats\\_qmc.py:958: UserWarning: The balance properties of Sobol' points require n to be a power of 2.\n",
      "  sample = self._random(n, workers=workers)\n"
     ]
    }
   ],
   "source": [
    "# Generate the parameter samples using SALIB RBDfast recommanded method (Latin Hypercube sampling)\n",
    "sampling = sobol.sample(problem, samples)\n",
    "# Evaluate model\n",
    "Y = [model4sa(tdb=params[0],\n",
    "                    tr=params[1],\n",
    "                    rh=params[2],\n",
    "                    v=params[3],\n",
    "                    met=1.1,\n",
    "                    clo=params[4],\n",
    "                    standard=\"ASHRAE\", limit_inputs=False, round=False)[model_output_names] for params in sampling\n",
    "                    ]"
   ]
  },
  {
   "cell_type": "code",
   "execution_count": 7,
   "metadata": {},
   "outputs": [
    {
     "data": {
      "text/html": [
       "<div>\n",
       "<style scoped>\n",
       "    .dataframe tbody tr th:only-of-type {\n",
       "        vertical-align: middle;\n",
       "    }\n",
       "\n",
       "    .dataframe tbody tr th {\n",
       "        vertical-align: top;\n",
       "    }\n",
       "\n",
       "    .dataframe thead th {\n",
       "        text-align: right;\n",
       "    }\n",
       "</style>\n",
       "<table border=\"1\" class=\"dataframe\">\n",
       "  <thead>\n",
       "    <tr style=\"text-align: right;\">\n",
       "      <th></th>\n",
       "      <th>0</th>\n",
       "    </tr>\n",
       "  </thead>\n",
       "  <tbody>\n",
       "    <tr>\n",
       "      <th>0</th>\n",
       "      <td>24.379971</td>\n",
       "    </tr>\n",
       "    <tr>\n",
       "      <th>1</th>\n",
       "      <td>25.731964</td>\n",
       "    </tr>\n",
       "    <tr>\n",
       "      <th>2</th>\n",
       "      <td>22.522740</td>\n",
       "    </tr>\n",
       "    <tr>\n",
       "      <th>3</th>\n",
       "      <td>24.383896</td>\n",
       "    </tr>\n",
       "    <tr>\n",
       "      <th>4</th>\n",
       "      <td>26.914536</td>\n",
       "    </tr>\n",
       "    <tr>\n",
       "      <th>...</th>\n",
       "      <td>...</td>\n",
       "    </tr>\n",
       "    <tr>\n",
       "      <th>119995</th>\n",
       "      <td>26.364077</td>\n",
       "    </tr>\n",
       "    <tr>\n",
       "      <th>119996</th>\n",
       "      <td>24.684891</td>\n",
       "    </tr>\n",
       "    <tr>\n",
       "      <th>119997</th>\n",
       "      <td>24.613639</td>\n",
       "    </tr>\n",
       "    <tr>\n",
       "      <th>119998</th>\n",
       "      <td>26.200325</td>\n",
       "    </tr>\n",
       "    <tr>\n",
       "      <th>119999</th>\n",
       "      <td>25.410103</td>\n",
       "    </tr>\n",
       "  </tbody>\n",
       "</table>\n",
       "<p>120000 rows × 1 columns</p>\n",
       "</div>"
      ],
      "text/plain": [
       "                0\n",
       "0       24.379971\n",
       "1       25.731964\n",
       "2       22.522740\n",
       "3       24.383896\n",
       "4       26.914536\n",
       "...           ...\n",
       "119995  26.364077\n",
       "119996  24.684891\n",
       "119997  24.613639\n",
       "119998  26.200325\n",
       "119999  25.410103\n",
       "\n",
       "[120000 rows x 1 columns]"
      ]
     },
     "execution_count": 7,
     "metadata": {},
     "output_type": "execute_result"
    }
   ],
   "source": [
    "pd.DataFrame(Y)"
   ]
  },
  {
   "cell_type": "code",
   "execution_count": 8,
   "metadata": {},
   "outputs": [],
   "source": [
    "Si = analyse_sobol.analyze(problem,  np.asarray(Y), calc_second_order=True,print_to_console=False)\n",
    "total, first, second = Si.to_df()"
   ]
  },
  {
   "cell_type": "code",
   "execution_count": 9,
   "metadata": {},
   "outputs": [
    {
     "name": "stdout",
     "output_type": "stream",
     "text": [
      "           ST   ST_conf\n",
      "tdb  0.423625  0.013191\n",
      "tr   0.090100  0.002829\n",
      "rh   0.059261  0.002494\n",
      "v    0.221159  0.007569\n",
      "clo  0.228244  0.006854\n"
     ]
    },
    {
     "data": {
      "text/plain": [
       "<Axes: >"
      ]
     },
     "execution_count": 9,
     "metadata": {},
     "output_type": "execute_result"
    },
    {
     "data": {
      "image/png": "[encoded data removed]",
      "text/plain": [
       "<Figure size 640x480 with 1 Axes>"
      ]
     },
     "metadata": {},
     "output_type": "display_data"
    }
   ],
   "source": [
    "print(total)\n",
    "barplot(total)\n"
   ]
  },
  {
   "cell_type": "code",
   "execution_count": 10,
   "metadata": {},
   "outputs": [
    {
     "name": "stdout",
     "output_type": "stream",
     "text": [
      "           S1   S1_conf\n",
      "tdb  0.410322  0.016279\n",
      "tr   0.085176  0.008570\n",
      "rh   0.045549  0.007165\n",
      "v    0.212725  0.013773\n",
      "clo  0.224610  0.011778\n"
     ]
    },
    {
     "data": {
      "text/plain": [
       "<Axes: >"
      ]
     },
     "execution_count": 10,
     "metadata": {},
     "output_type": "execute_result"
    },
    {
     "data": {
      "image/png": "[encoded data removed]",
      "text/plain": [
       "<Figure size 640x480 with 1 Axes>"
      ]
     },
     "metadata": {},
     "output_type": "display_data"
    }
   ],
   "source": [
    "print(first)\n",
    "barplot(first)"
   ]
  },
  {
   "cell_type": "code",
   "execution_count": 11,
   "metadata": {},
   "outputs": [
    {
     "name": "stdout",
     "output_type": "stream",
     "text": [
      "                  S2   S2_conf\n",
      "(tdb, tr)   0.000084  0.022314\n",
      "(tdb, rh)   0.011331  0.022823\n",
      "(tdb, v)    0.001482  0.022622\n",
      "(tdb, clo)  0.000367  0.024660\n",
      "(tr, rh)   -0.000265  0.011029\n",
      "(tr, v)     0.003738  0.012553\n",
      "(tr, clo)  -0.000172  0.011725\n",
      "(rh, v)     0.000984  0.012457\n",
      "(rh, clo)   0.001048  0.011384\n",
      "(v, clo)    0.001136  0.020380\n"
     ]
    },
    {
     "data": {
      "text/plain": [
       "<Axes: >"
      ]
     },
     "execution_count": 11,
     "metadata": {},
     "output_type": "execute_result"
    },
    {
     "data": {
      "image/png": "[encoded data removed]",
      "text/plain": [
       "<Figure size 640x480 with 1 Axes>"
      ]
     },
     "metadata": {},
     "output_type": "display_data"
    }
   ],
   "source": [
    "print(second)\n",
    "barplot(second)"
   ]
  }
 ],
 "metadata": {
  "kernelspec": {
   "display_name": ".venv",
   "language": "python",
   "name": "python3"
  },
  "language_info": {
   "codemirror_mode": {
    "name": "ipython",
    "version": 3
   },
   "file_extension": ".py",
   "mimetype": "text/x-python",
   "name": "python",
   "nbconvert_exporter": "python",
   "pygments_lexer": "ipython3",
   "version": "3.10.0"
  }
 },
 "nbformat": 4,
 "nbformat_minor": 2
}

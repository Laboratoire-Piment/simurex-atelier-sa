{
 "cells": [
  {
   "cell_type": "markdown",
   "metadata": {},
   "source": [
    "Import des librairies"
   ]
  },
  {
   "cell_type": "code",
   "execution_count": null,
   "metadata": {},
   "outputs": [],
   "source": [
    "import os\n",
    "import sys\n",
    "import pandas as pd\n",
    "import numpy as np\n",
    "import seaborn as sns\n",
    "import matplotlib.pyplot as plt\n",
    "from pythermalcomfort import two_nodes\n",
    "from SALib.analyze import rbd_fast\n",
    "from SALib.sample import latin\n",
    "from SALib.plotting.bar import plot as barplot\n"
   ]
  },
  {
   "cell_type": "code",
   "execution_count": null,
   "metadata": {},
   "outputs": [],
   "source": [
    "\n",
    "current_directory = os.getcwd()\n",
    "\n",
    "# List all files in the current directory\n",
    "files = os.listdir(current_directory)\n",
    "\n",
    "# Iterate through all files\n",
    "for file in files:\n",
    "    if file.endswith('.py'):\n",
    "        # Skip Python files\n",
    "        continue\n",
    "    else:\n",
    "        # Delete non-Python files\n",
    "        os.remove(os.path.join(current_directory, file))"
   ]
  },
  {
   "cell_type": "code",
   "execution_count": null,
   "metadata": {},
   "outputs": [],
   "source": [
    "model = \"Gagge's Two-Nodes\" # Name of model for plot titles\n",
    "filename='GAGGE_2NODES' # Eventual filename for exporting all csv outputs\n",
    "doyouwanttoploteverything = True  # Flag if will to export all data in csv and all plot for each degree step (True if will to plot)"
   ]
  },
  {
   "cell_type": "code",
   "execution_count": null,
   "metadata": {},
   "outputs": [],
   "source": [
    "def model4sa(tdb,\n",
    "                tr,\n",
    "                v,\n",
    "                rh,\n",
    "                met,\n",
    "                clo,\n",
    "                standard=\"ASHRAE\", limit_inputs=False, round=False):\n",
    "    \n",
    "    pythermal=two_nodes(tdb=tdb,\n",
    "                        tr=tr,\n",
    "                        v=v,\n",
    "                        rh=rh,\n",
    "                        met=met,\n",
    "                        clo=clo,\n",
    "                        standard=\"ASHRAE\", limit_inputs=False, round=False)\n",
    "    \n",
    "    pts = 0.25 * pythermal['_set'] - 6.03\n",
    "    es=1.33\n",
    "    l=0.195\n",
    "    tsv_se = es * pts\n",
    "    tsv_sa = pts/(1+l*pts)\n",
    "    \n",
    "    return {\"_set\": pythermal['_set'],\n",
    "                    \"et\":pythermal['et'],\n",
    "                    \"t_core\" : pythermal['t_core'],\n",
    "                    \"t_skin\" : pythermal['t_skin'],\n",
    "                    \"pmv_gagge\" : pythermal['pmv_gagge'],\n",
    "                    \"pmv_set\" : pythermal['pmv_set'],\n",
    "                    'w' : pythermal['w'],\n",
    "                    'w_max' : pythermal['w_max'],\n",
    "                    \"disc\" : pythermal['disc'],\n",
    "                    \"t_sens\" : pythermal['t_sens'],\n",
    "                    'pts' : pts,\n",
    "                    'tsv_se':tsv_se,\n",
    "                    'tsv_sa':tsv_sa}"
   ]
  },
  {
   "cell_type": "code",
   "execution_count": null,
   "metadata": {},
   "outputs": [],
   "source": [
    "model_output_names=\"_set\"\n",
    "                    # \"et\",\n",
    "                    # \"t_core\",\n",
    "                    # \"t_skin\",\n",
    "                    # \"pmv_gagge\",\n",
    "                    # \"pmv_set\",\n",
    "                    # 'w',\n",
    "                    # 'w_max',\n",
    "                    # \"disc\",\n",
    "                    # \"t_sens\",\n",
    "                    # 'pts',\n",
    "                    # 'tsv_se',\n",
    "                    # 'tsv_sa'\n",
    "                    \n",
    "                    "
   ]
  },
  {
   "cell_type": "code",
   "execution_count": null,
   "metadata": {},
   "outputs": [],
   "source": [
    "# Define number of sample for SA, need to be determined after a Si (S1) convergence study\n",
    "samples=10000\n",
    "# Define input variable ranges based on possible model inputs\n",
    "lower_v = 0.01 \n",
    "upper_v = 2.2\n",
    "# lower_met = 0.65\n",
    "# upper_met = 1.26\n",
    "lower_clo = 0.29\n",
    "upper_clo = 0.79\n",
    "lower_tdb = 25.4\n",
    "upper_tdb = 32.1\n",
    "lower_tr = 23.1\n",
    "upper_tr = 31.2\n",
    "lower_rh = 60\n",
    "upper_rh = 90"
   ]
  },
  {
   "cell_type": "code",
   "execution_count": null,
   "metadata": {},
   "outputs": [],
   "source": [
    "# Define SA problem (SALIB package)\n",
    "problem = {\n",
    "    'num_vars': 5, # number of variable inputs\n",
    "    'names': [ 'tdb','tr','rh','v','clo'], # input names in correct order\n",
    "    'bounds': [\n",
    "        [lower_tdb, upper_tdb],\n",
    "        [lower_tr, upper_tr],\n",
    "        [lower_rh, upper_rh],\n",
    "        [lower_v, upper_v],\n",
    "        [lower_clo, upper_clo]\n",
    "            ],\n",
    "    'dist' : ['unif',\n",
    "              'unif',\n",
    "              'unif',\n",
    "              'unif',\n",
    "              'unif']    \n",
    "            \n",
    "        }"
   ]
  },
  {
   "cell_type": "code",
   "execution_count": null,
   "metadata": {},
   "outputs": [],
   "source": [
    "# Generate the parameter samples using SALIB RBDfast recommanded method (Latin Hypercube sampling)\n",
    "sampling = latin.sample(problem, samples)\n",
    "# Evaluate model\n",
    "Y = [model4sa(tdb=params[0],\n",
    "                    tr=params[1],\n",
    "                    rh=params[2],\n",
    "                    v=params[3],\n",
    "                    met=1.1,\n",
    "                    clo=params[4],\n",
    "                    standard=\"ASHRAE\", limit_inputs=False, round=False)[model_output_names] for params in sampling\n",
    "                    ]"
   ]
  },
  {
   "cell_type": "code",
   "execution_count": null,
   "metadata": {},
   "outputs": [],
   "source": [
    "pd.DataFrame(Y)"
   ]
  },
  {
   "cell_type": "code",
   "execution_count": null,
   "metadata": {},
   "outputs": [],
   "source": [
    "Si = rbd_fast.analyze(problem, sampling, np.array(Y), print_to_console=True)"
   ]
  },
  {
   "cell_type": "code",
   "execution_count": null,
   "metadata": {},
   "outputs": [],
   "source": [
    "# plt.title='Indice de Sobol du premier ordre'\n",
    "Si_df=pd.DataFrame(Si)\n",
    "print(Si_df)\n",
    "names=Si['names']\n",
    "ax=barplot(Si_df)\n",
    "ax.set_xticks(range(len(names)))\n",
    "ax.set_xticklabels(names)\n",
    "\n"
   ]
  },
  {
   "cell_type": "code",
   "execution_count": null,
   "metadata": {},
   "outputs": [],
   "source": [
    "plot(problem, Si, threshold=0.05, names_latex=None)"
   ]
  }
 ],
 "metadata": {
  "kernelspec": {
   "display_name": ".venv",
   "language": "python",
   "name": "python3"
  },
  "language_info": {
   "codemirror_mode": {
    "name": "ipython",
    "version": 3
   },
   "file_extension": ".py",
   "mimetype": "text/x-python",
   "name": "python",
   "nbconvert_exporter": "python",
   "pygments_lexer": "ipython3",
   "version": "3.10.0"
  }
 },
 "nbformat": 4,
 "nbformat_minor": 2
}
